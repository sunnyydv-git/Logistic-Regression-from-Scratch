{
  "nbformat": 4,
  "nbformat_minor": 0,
  "metadata": {
    "colab": {
      "provenance": []
    },
    "kernelspec": {
      "name": "python3",
      "display_name": "Python 3"
    },
    "language_info": {
      "name": "python"
    }
  },
  "cells": [
    {
      "cell_type": "code",
      "execution_count": 1,
      "metadata": {
        "id": "2CFDltkNXlU8"
      },
      "outputs": [],
      "source": [
        "import numpy as np\n",
        "import matplotlib.pyplot as plt\n",
        "%matplotlib inline"
      ]
    },
    {
      "cell_type": "code",
      "source": [
        "def sigmoid(z):\n",
        "  return 1 / (1 + np.exp(-z))"
      ],
      "metadata": {
        "id": "mrnTW8qcdNIZ"
      },
      "execution_count": 2,
      "outputs": []
    },
    {
      "cell_type": "code",
      "source": [
        "class LogisticRegression:\n",
        "  def __init__(self, learning_rate = 0.01, num_iterations = 100):\n",
        "    self.learning_rate = learning_rate\n",
        "    self.num_iterations = num_iterations\n",
        "\n",
        "  def fit(self, X,y):\n",
        "    m, n = X.shape\n",
        "    self.w = np.zeros(n)\n",
        "    self.b = 0\n",
        "\n",
        "    for i in range(self.num_iterations):\n",
        "      z = np.dot(X, self.w) + self.b\n",
        "      S = sigmoid(z)\n",
        "\n",
        "      # compute gradients\n",
        "      dw = (1/m) * np.dot(X.T, (S - y))\n",
        "      db = (1/m) * np.sum(S - y)\n",
        "\n",
        "      # update parameters\n",
        "      self.w -= self.learning_rate * dw\n",
        "      self.b -= self.learning_rate * db\n",
        "\n",
        "\n",
        "      # print the cost for every 100 iterations\n",
        "      if i % 100 == 0:\n",
        "        cost = -(1/m) * np.sum(y * np.log(S) + (1 - y )* np.log(1 - S))\n",
        "        print(f\" iteration : {i}, Cost : {cost}\")\n",
        "\n",
        "  def predict_proba(self, X):\n",
        "    z = np.dot(X, self.w) + self.b\n",
        "    A = sigmoid(z)\n",
        "    return A\n",
        "\n",
        "  def predict(self, X):\n",
        "    A = self.predict_proba(X)\n",
        "    return A >= 0.5  # binary predictions\n",
        "\n",
        "def accuracy(y_pred, y_true):\n",
        "  return np.mean(y_true == y_pred)\n",
        "\n",
        "def plot_decision_boundary(model, X, y):\n",
        "    x_min, x_max = X[:, 0].min() - 1, X[:, 0].max() + 1\n",
        "    y_min, y_max = X[:, 1].min() - 1, X[:, 1].max() + 1\n",
        "    xx, yy = np.meshgrid(np.arange(x_min, x_max, 0.1),\n",
        "                         np.arange(y_min, y_max, 0.1))\n",
        "    Z = model.predict(np.c_[xx.ravel(), yy.ravel()])\n",
        "    Z = Z.reshape(xx.shape)\n",
        "\n",
        "    plt.contourf(xx, yy, Z, alpha=0.4)\n",
        "    plt.scatter(X[:, 0], X[:, 1], c=y, edgecolors='k', marker='o')\n",
        "    plt.xlabel('Feature 1')\n",
        "    plt.ylabel('Feature 2')\n",
        "    plt.title('Decision Boundary')\n",
        "    plt.show()"
      ],
      "metadata": {
        "id": "ZyUrepCldcCG"
      },
      "execution_count": 10,
      "outputs": []
    },
    {
      "cell_type": "code",
      "source": [
        "# Sample data\n",
        "X = np.array([[0.5, 1.5], [1.0, 1.0], [1.5, 0.5], [2.0, 1.0], [2.5, 1.5], [3.0, 2.0]])\n",
        "y = np.array([0, 0, 0, 1, 1, 1])"
      ],
      "metadata": {
        "id": "T6zsNX-4mHwG"
      },
      "execution_count": 4,
      "outputs": []
    },
    {
      "cell_type": "code",
      "source": [
        "model = LogisticRegression(learning_rate=0.1, num_iterations=1000)\n",
        "model.fit(X, y)"
      ],
      "metadata": {
        "colab": {
          "base_uri": "https://localhost:8080/"
        },
        "id": "wyK_Bp0mtAbN",
        "outputId": "6c89324b-4263-4d4b-f69c-d51088d4980d"
      },
      "execution_count": 5,
      "outputs": [
        {
          "output_type": "stream",
          "name": "stdout",
          "text": [
            " iteration : 0, Cost : 0.6931471805599452\n",
            " iteration : 100, Cost : 0.44757385845942954\n",
            " iteration : 200, Cost : 0.355901449277726\n",
            " iteration : 300, Cost : 0.30231051944458287\n",
            " iteration : 400, Cost : 0.26593065593229237\n",
            " iteration : 500, Cost : 0.23910712327000383\n",
            " iteration : 600, Cost : 0.21827823949387382\n",
            " iteration : 700, Cost : 0.20151151931507708\n",
            " iteration : 800, Cost : 0.18764771215001108\n",
            " iteration : 900, Cost : 0.17594150337653797\n"
          ]
        }
      ]
    },
    {
      "cell_type": "code",
      "source": [
        "predictions = model.predict(X)\n",
        "print(\"Predictions\", predictions)"
      ],
      "metadata": {
        "colab": {
          "base_uri": "https://localhost:8080/"
        },
        "id": "yfYkr1motHzM",
        "outputId": "8e5a6f37-4a2b-414a-8bbd-f08d824ce63d"
      },
      "execution_count": 6,
      "outputs": [
        {
          "output_type": "stream",
          "name": "stdout",
          "text": [
            "Predictions [False False False  True  True  True]\n"
          ]
        }
      ]
    },
    {
      "cell_type": "code",
      "source": [
        "accu = accuracy(y, predictions)\n",
        "print(f\"Accuracy: {accu * 100:.2f}%\")"
      ],
      "metadata": {
        "colab": {
          "base_uri": "https://localhost:8080/"
        },
        "id": "zmeJsFxQtaHR",
        "outputId": "bf91190a-861b-4ca7-b7a8-9a5958b603fb"
      },
      "execution_count": 13,
      "outputs": [
        {
          "output_type": "stream",
          "name": "stdout",
          "text": [
            "Accuracy: 100.00%\n"
          ]
        }
      ]
    },
    {
      "cell_type": "code",
      "source": [
        "plot_decision_boundary(model, X, y)"
      ],
      "metadata": {
        "colab": {
          "base_uri": "https://localhost:8080/",
          "height": 472
        },
        "id": "UUGfJLTTtzud",
        "outputId": "f78038e4-eee6-4ca2-906f-e548c036830e"
      },
      "execution_count": 14,
      "outputs": [
        {
          "output_type": "display_data",
          "data": {
            "text/plain": [
              "<Figure size 640x480 with 1 Axes>"
            ],
            "image/png": "[encoded data removed]"
          },
          "metadata": {}
        }
      ]
    }
  ]
}